{
 "cells": [
  {
   "cell_type": "code",
   "execution_count": 1,
   "id": "5c5ffa54",
   "metadata": {},
   "outputs": [],
   "source": [
    "import pandas as pd\n",
    "import numpy as np\n",
    "import matplotlib.pyplot as plt\n",
    "%matplotlib inline"
   ]
  },
  {
   "cell_type": "code",
   "execution_count": 2,
   "id": "85bad1e8",
   "metadata": {},
   "outputs": [],
   "source": [
    "df = pd.read_csv('noshowappointments-kagglev2-may-2016.csv')"
   ]
  },
  {
   "cell_type": "code",
   "execution_count": 4,
   "id": "5c8d2b58",
   "metadata": {},
   "outputs": [
    {
     "data": {
      "text/plain": [
       "0         18:38:08\n",
       "1         16:08:27\n",
       "2         16:19:04\n",
       "3         17:29:31\n",
       "4         16:07:23\n",
       "            ...   \n",
       "110522    09:15:35\n",
       "110523    07:27:33\n",
       "110524    16:03:52\n",
       "110525    15:09:23\n",
       "110526    13:30:56\n",
       "Name: ScheduledDay, Length: 110527, dtype: object"
      ]
     },
     "execution_count": 4,
     "metadata": {},
     "output_type": "execute_result"
    }
   ],
   "source": [
    "df['ScheduledDay'] = pd.to_datetime(df['ScheduledDay'])\n",
    "df['ScheduledDay'] = df['ScheduledDay'].dt.strftime(\"%H:%M:%S\")\n",
    "df['ScheduledDay']"
   ]
  },
  {
   "cell_type": "code",
   "execution_count": null,
   "id": "45b297d7",
   "metadata": {},
   "outputs": [],
   "source": []
  },
  {
   "cell_type": "code",
   "execution_count": null,
   "id": "6d95d274",
   "metadata": {},
   "outputs": [],
   "source": []
  },
  {
   "cell_type": "code",
   "execution_count": null,
   "id": "45c0c858",
   "metadata": {},
   "outputs": [],
   "source": []
  },
  {
   "cell_type": "code",
   "execution_count": null,
   "id": "6f75449e",
   "metadata": {},
   "outputs": [],
   "source": []
  },
  {
   "cell_type": "code",
   "execution_count": null,
   "id": "dad865a5",
   "metadata": {},
   "outputs": [],
   "source": []
  }
 ],
 "metadata": {
  "kernelspec": {
   "display_name": "Python 3 (ipykernel)",
   "language": "python",
   "name": "python3"
  },
  "language_info": {
   "codemirror_mode": {
    "name": "ipython",
    "version": 3
   },
   "file_extension": ".py",
   "mimetype": "text/x-python",
   "name": "python",
   "nbconvert_exporter": "python",
   "pygments_lexer": "ipython3",
   "version": "3.9.12"
  }
 },
 "nbformat": 4,
 "nbformat_minor": 5
}
