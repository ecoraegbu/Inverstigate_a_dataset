{
 "cells": [
  {
   "cell_type": "markdown",
   "id": "0dd26cbd",
   "metadata": {},
   "source": [
    "# Project: No-Show appointment Data Analysis\n",
    "\n",
    "## Table of Contents\n",
    "<ul>\n",
    "<li><a href=\"#intro\">Introduction</a></li>\n",
    "<li><a href=\"#wrangling\">Data Wrangling</a></li>\n",
    "<li><a href=\"#eda\">Exploratory Data Analysis</a></li>\n",
    "<li><a href=\"#conclusions\">Conclusions</a></li>\n",
    "</ul>"
   ]
  },
  {
   "cell_type": "markdown",
   "id": "e7b7cd56",
   "metadata": {},
   "source": [
    "<a id='intro'></a>\n",
    "## Introduction\n",
    "\n",
    "### Dataset Description \n",
    "\n",
    "This project analyzes the data regarding the failure of appointees to keep their date or appointments. I would be investigating the factors responsible for the failure of patients to show up for their appointments.\n",
    "\n",
    "The dataset analyzed represents a sample size of over 100 thousand medical appointments in Brazil. A number of characteristics about the patient are included in each row.\n",
    "Based on My findings, I should be able to predict whether or not a patient would show up for his/her appointment and explain why.\n",
    "\n",
    ">**Column Names**:\n",
    "\n",
    "The following variables are analyzed in this data set\n",
    "1. PatientId    : This is a unique identifier for each patient. No two patient has the same Id. \n",
    "2. AppointmentID : Uniquely identifies the appointment records and details. Again this is unique for each appointment made.  \n",
    "3. Gender: Tells us whether the patient is male or female           \n",
    "4. ScheduledDay : this tells us the time that the appointment was fixed for on the appointment day (this should be renamed as scheduledTime because there is another column that tells us what date the appointment was for)this tells us what day the appointment was set for. \n",
    "5. AppointmentDay: This column gives us information about the date of the appointment. the date is formatted as pd.datetime  \n",
    "6. Age    : Specifies the age of the patients         \n",
    "7. Neighbourhood : this tells us the location of the hospital. unfortunately there is no measurement of the distance between the hospital and the location. this would have provided an insight into how distance affects the tendency to keep appointments\n",
    "8. Scholarship : indicates whether or not the patient is enrolled in Brasilian welfare program Bolsa Família. \n",
    "9. Hipertension\n",
    "10. Diabetes        \n",
    "11. Alcoholism      \n",
    "12. Handcap         \n",
    "13. SMS_received \n",
    "14. No-show : Tells us whether the patient showed up or not for their appointment. It says NO if they did and yes if they didn't\n",
    "\n",
    "\n",
    "### Question(s) for Analysis\n",
    "\n",
    "1.  What factors are important for us to know in order to predict if a patient will show up for their scheduled appointment?\n",
    "2. Do Females have more tendency to show up for their appointments than Males (is gender a factor?)\n",
    "3. Does the appointment time influence whether or not a patient shows up for their appointment?\n",
    "4. Are people above a certain age more or less inclined to show up for their appointments\n",
    "5. Are people below a certain age more or less inclined to show up for thei appointments\n",
    "6. if the health program is free, are the patients more likely to show up for their appointments?\n",
    "\n",
    ">**Tip**: Clearly state one or more questions that you plan on exploring over the course of the report. You will address these questions in the **data analysis** and **conclusion** sections. Try to build your report around the analysis of at least one dependent variable and three independent variables. If you're not sure what questions to ask, then make sure you familiarize yourself with the dataset, its variables and the dataset context for ideas of what to explore.\n",
    "\n",
    "> **Tip**: Once you start coding, use NumPy arrays, Pandas Series, and DataFrames where appropriate rather than Python lists and dictionaries. Also, **use good coding practices**, such as, define and use functions to avoid repetitive code. Use appropriate comments within the code cells, explanation in the mark-down cells, and meaningful variable names. "
   ]
  },
  {
   "cell_type": "code",
   "execution_count": 1,
   "id": "f0df0827",
   "metadata": {},
   "outputs": [],
   "source": [
    "# Use this cell to set up import statements for all of the packages that you\n",
    "#   plan to use.\n",
    "import pandas as pd\n",
    "import numpy as np\n",
    "import matplotlib.pyplot as plt\n",
    "%matplotlib inline\n",
    "# Remember to include a 'magic word' so that your visualizations are plotted\n",
    "#   inline with the notebook. See this page for more:\n",
    "#   http://ipython.readthedocs.io/en/stable/interactive/magics.html\n"
   ]
  },
  {
   "cell_type": "markdown",
   "id": "03710b6f",
   "metadata": {},
   "source": [
    "<a id='wrangling'></a>\n",
    "## Data Wrangling\n",
    "\n",
    "> **Tip**: In this section of the report, you will load in the data, check for cleanliness, and then trim and clean your dataset for analysis. Make sure that you **document your data cleaning steps in mark-down cells precisely and justify your cleaning decisions.**\n",
    "\n",
    "\n",
    "### General Properties\n",
    "> **Tip**: You should _not_ perform too many operations in each cell. Create cells freely to explore your data. One option that you can take with this project is to do a lot of explorations in an initial notebook. These don't have to be organized, but make sure you use enough comments to understand the purpose of each code cell. Then, after you're done with your analysis, create a duplicate notebook where you will trim the excess and organize your steps so that you have a flowing, cohesive report."
   ]
  },
  {
   "cell_type": "code",
   "execution_count": 4,
   "id": "f0cdc001",
   "metadata": {},
   "outputs": [],
   "source": [
    "# Load your data and print out a few lines. Perform operations to inspect data\n",
    "#   types and look for instances of missing or possibly errant data.\n",
    "df = pd.read_csv('noshowappointments-kagglev2-may-2016.csv')"
   ]
  },
  {
   "cell_type": "code",
   "execution_count": 5,
   "id": "c30ba195",
   "metadata": {},
   "outputs": [
    {
     "name": "stdout",
     "output_type": "stream",
     "text": [
      "<class 'pandas.core.frame.DataFrame'>\n",
      "RangeIndex: 110527 entries, 0 to 110526\n",
      "Data columns (total 14 columns):\n",
      " #   Column          Non-Null Count   Dtype  \n",
      "---  ------          --------------   -----  \n",
      " 0   PatientId       110527 non-null  float64\n",
      " 1   AppointmentID   110527 non-null  int64  \n",
      " 2   Gender          110527 non-null  object \n",
      " 3   ScheduledDay    110527 non-null  object \n",
      " 4   AppointmentDay  110527 non-null  object \n",
      " 5   Age             110527 non-null  int64  \n",
      " 6   Neighbourhood   110527 non-null  object \n",
      " 7   Scholarship     110527 non-null  int64  \n",
      " 8   Hipertension    110527 non-null  int64  \n",
      " 9   Diabetes        110527 non-null  int64  \n",
      " 10  Alcoholism      110527 non-null  int64  \n",
      " 11  Handcap         110527 non-null  int64  \n",
      " 12  SMS_received    110527 non-null  int64  \n",
      " 13  No-show         110527 non-null  object \n",
      "dtypes: float64(1), int64(8), object(5)\n",
      "memory usage: 11.8+ MB\n"
     ]
    }
   ],
   "source": [
    "df.info()"
   ]
  },
  {
   "cell_type": "code",
   "execution_count": 6,
   "id": "d26e16bc",
   "metadata": {},
   "outputs": [
    {
     "data": {
      "text/plain": [
       "(110527, 14)"
      ]
     },
     "execution_count": 6,
     "metadata": {},
     "output_type": "execute_result"
    }
   ],
   "source": [
    "df.shape"
   ]
  },
  {
   "cell_type": "code",
   "execution_count": 7,
   "id": "795981a8",
   "metadata": {},
   "outputs": [
    {
     "data": {
      "text/html": [
       "<div>\n",
       "<style scoped>\n",
       "    .dataframe tbody tr th:only-of-type {\n",
       "        vertical-align: middle;\n",
       "    }\n",
       "\n",
       "    .dataframe tbody tr th {\n",
       "        vertical-align: top;\n",
       "    }\n",
       "\n",
       "    .dataframe thead th {\n",
       "        text-align: right;\n",
       "    }\n",
       "</style>\n",
       "<table border=\"1\" class=\"dataframe\">\n",
       "  <thead>\n",
       "    <tr style=\"text-align: right;\">\n",
       "      <th></th>\n",
       "      <th>PatientId</th>\n",
       "      <th>AppointmentID</th>\n",
       "      <th>Age</th>\n",
       "      <th>Scholarship</th>\n",
       "      <th>Hipertension</th>\n",
       "      <th>Diabetes</th>\n",
       "      <th>Alcoholism</th>\n",
       "      <th>Handcap</th>\n",
       "      <th>SMS_received</th>\n",
       "    </tr>\n",
       "  </thead>\n",
       "  <tbody>\n",
       "    <tr>\n",
       "      <th>count</th>\n",
       "      <td>1.105270e+05</td>\n",
       "      <td>1.105270e+05</td>\n",
       "      <td>110527.000000</td>\n",
       "      <td>110527.000000</td>\n",
       "      <td>110527.000000</td>\n",
       "      <td>110527.000000</td>\n",
       "      <td>110527.000000</td>\n",
       "      <td>110527.000000</td>\n",
       "      <td>110527.000000</td>\n",
       "    </tr>\n",
       "    <tr>\n",
       "      <th>mean</th>\n",
       "      <td>1.474963e+14</td>\n",
       "      <td>5.675305e+06</td>\n",
       "      <td>37.088874</td>\n",
       "      <td>0.098266</td>\n",
       "      <td>0.197246</td>\n",
       "      <td>0.071865</td>\n",
       "      <td>0.030400</td>\n",
       "      <td>0.022248</td>\n",
       "      <td>0.321026</td>\n",
       "    </tr>\n",
       "    <tr>\n",
       "      <th>std</th>\n",
       "      <td>2.560949e+14</td>\n",
       "      <td>7.129575e+04</td>\n",
       "      <td>23.110205</td>\n",
       "      <td>0.297675</td>\n",
       "      <td>0.397921</td>\n",
       "      <td>0.258265</td>\n",
       "      <td>0.171686</td>\n",
       "      <td>0.161543</td>\n",
       "      <td>0.466873</td>\n",
       "    </tr>\n",
       "    <tr>\n",
       "      <th>min</th>\n",
       "      <td>3.921784e+04</td>\n",
       "      <td>5.030230e+06</td>\n",
       "      <td>-1.000000</td>\n",
       "      <td>0.000000</td>\n",
       "      <td>0.000000</td>\n",
       "      <td>0.000000</td>\n",
       "      <td>0.000000</td>\n",
       "      <td>0.000000</td>\n",
       "      <td>0.000000</td>\n",
       "    </tr>\n",
       "    <tr>\n",
       "      <th>25%</th>\n",
       "      <td>4.172614e+12</td>\n",
       "      <td>5.640286e+06</td>\n",
       "      <td>18.000000</td>\n",
       "      <td>0.000000</td>\n",
       "      <td>0.000000</td>\n",
       "      <td>0.000000</td>\n",
       "      <td>0.000000</td>\n",
       "      <td>0.000000</td>\n",
       "      <td>0.000000</td>\n",
       "    </tr>\n",
       "    <tr>\n",
       "      <th>50%</th>\n",
       "      <td>3.173184e+13</td>\n",
       "      <td>5.680573e+06</td>\n",
       "      <td>37.000000</td>\n",
       "      <td>0.000000</td>\n",
       "      <td>0.000000</td>\n",
       "      <td>0.000000</td>\n",
       "      <td>0.000000</td>\n",
       "      <td>0.000000</td>\n",
       "      <td>0.000000</td>\n",
       "    </tr>\n",
       "    <tr>\n",
       "      <th>75%</th>\n",
       "      <td>9.439172e+13</td>\n",
       "      <td>5.725524e+06</td>\n",
       "      <td>55.000000</td>\n",
       "      <td>0.000000</td>\n",
       "      <td>0.000000</td>\n",
       "      <td>0.000000</td>\n",
       "      <td>0.000000</td>\n",
       "      <td>0.000000</td>\n",
       "      <td>1.000000</td>\n",
       "    </tr>\n",
       "    <tr>\n",
       "      <th>max</th>\n",
       "      <td>9.999816e+14</td>\n",
       "      <td>5.790484e+06</td>\n",
       "      <td>115.000000</td>\n",
       "      <td>1.000000</td>\n",
       "      <td>1.000000</td>\n",
       "      <td>1.000000</td>\n",
       "      <td>1.000000</td>\n",
       "      <td>4.000000</td>\n",
       "      <td>1.000000</td>\n",
       "    </tr>\n",
       "  </tbody>\n",
       "</table>\n",
       "</div>"
      ],
      "text/plain": [
       "          PatientId  AppointmentID            Age    Scholarship  \\\n",
       "count  1.105270e+05   1.105270e+05  110527.000000  110527.000000   \n",
       "mean   1.474963e+14   5.675305e+06      37.088874       0.098266   \n",
       "std    2.560949e+14   7.129575e+04      23.110205       0.297675   \n",
       "min    3.921784e+04   5.030230e+06      -1.000000       0.000000   \n",
       "25%    4.172614e+12   5.640286e+06      18.000000       0.000000   \n",
       "50%    3.173184e+13   5.680573e+06      37.000000       0.000000   \n",
       "75%    9.439172e+13   5.725524e+06      55.000000       0.000000   \n",
       "max    9.999816e+14   5.790484e+06     115.000000       1.000000   \n",
       "\n",
       "        Hipertension       Diabetes     Alcoholism        Handcap  \\\n",
       "count  110527.000000  110527.000000  110527.000000  110527.000000   \n",
       "mean        0.197246       0.071865       0.030400       0.022248   \n",
       "std         0.397921       0.258265       0.171686       0.161543   \n",
       "min         0.000000       0.000000       0.000000       0.000000   \n",
       "25%         0.000000       0.000000       0.000000       0.000000   \n",
       "50%         0.000000       0.000000       0.000000       0.000000   \n",
       "75%         0.000000       0.000000       0.000000       0.000000   \n",
       "max         1.000000       1.000000       1.000000       4.000000   \n",
       "\n",
       "        SMS_received  \n",
       "count  110527.000000  \n",
       "mean        0.321026  \n",
       "std         0.466873  \n",
       "min         0.000000  \n",
       "25%         0.000000  \n",
       "50%         0.000000  \n",
       "75%         1.000000  \n",
       "max         1.000000  "
      ]
     },
     "execution_count": 7,
     "metadata": {},
     "output_type": "execute_result"
    }
   ],
   "source": [
    "df.describe()"
   ]
  },
  {
   "cell_type": "code",
   "execution_count": 8,
   "id": "f98201f4",
   "metadata": {},
   "outputs": [
    {
     "data": {
      "text/plain": [
       "PatientId         0\n",
       "AppointmentID     0\n",
       "Gender            0\n",
       "ScheduledDay      0\n",
       "AppointmentDay    0\n",
       "Age               0\n",
       "Neighbourhood     0\n",
       "Scholarship       0\n",
       "Hipertension      0\n",
       "Diabetes          0\n",
       "Alcoholism        0\n",
       "Handcap           0\n",
       "SMS_received      0\n",
       "No-show           0\n",
       "dtype: int64"
      ]
     },
     "execution_count": 8,
     "metadata": {},
     "output_type": "execute_result"
    }
   ],
   "source": [
    "# Check for missing entries\n",
    "df.isnull().sum()"
   ]
  },
  {
   "cell_type": "code",
   "execution_count": null,
   "id": "52790018",
   "metadata": {},
   "outputs": [],
   "source": [
    "# Check for duplicate entries\n",
    "df.duplicated().sum()"
   ]
  },
  {
   "cell_type": "code",
   "execution_count": null,
   "id": "100f65a8",
   "metadata": {},
   "outputs": [],
   "source": [
    "#Check number of entries and number of columns\n",
    "df.shape"
   ]
  },
  {
   "cell_type": "code",
   "execution_count": null,
   "id": "46f1dd0c",
   "metadata": {},
   "outputs": [],
   "source": [
    "# are there any duplicated patient id? means that one patient had more than 1 appointment\n",
    "sum(df.PatientId.duplicated())"
   ]
  },
  {
   "cell_type": "markdown",
   "id": "8a9be8a3",
   "metadata": {},
   "source": [
    "## Observations about the data\n",
    "1. Number of Entries: 110527\n",
    "2. Number of Columns: 14\n",
    "3. Missing Entries: 0\n",
    "4. Number of Duplicated Patient Id: 48228 (relevant because this is a record of same patient's behaviour to appointments)\n",
    "5. Incorrect Data type: scheduled day and appointment day both have strings as their data type. it should be datetime\n",
    "6. column Names not in uniform: SMS_received and No-show'\n",
    "7. No show column does not represent the data adequately. info about the column is that the meanings have been reversed. i.e no means yes and vice versa. we have to correct this and represent with dtype int. 1 for \"yes\" and 0 for \"no\"\n",
    "8. Number of Duplicate entries: 0\n",
    "9. The column ScheduledDay should represent Appointment time only since the same date information is contained in the column AppointmentDay"
   ]
  },
  {
   "cell_type": "markdown",
   "id": "041f3183",
   "metadata": {},
   "source": [
    "### Clean up operations to be made are\n",
    "1. change datatype of ScheduledDay and AppointmentDay from string to datetime\n",
    "2. Rename columns SMS_received and No-show for uniformity\n",
    "3. Replace values in Column NoShow make No read 1 and Yes read 0 \n",
    "(thereby correcting the other anomaly which is that no was used to represent a confirmed appointment)\n",
    "4. then change the data type of NoShow to int \n",
    "5. Extract the time from the ScheduledDay column \n",
    "6. Rename the column \"ScheduledDay\" to \"ScheduledTime\""
   ]
  },
  {
   "cell_type": "markdown",
   "id": "1fc7aca6",
   "metadata": {},
   "source": [
    "\n",
    "### Data Cleaning\n",
    "> **Tip**: Make sure that you keep your reader informed on the steps that you are taking in your investigation. Follow every code cell, or every set of related code cells, with a markdown cell to describe to the reader what was found in the preceding cell(s). Try to make it so that the reader can then understand what they will be seeing in the following cell(s).\n",
    " "
   ]
  },
  {
   "cell_type": "code",
   "execution_count": null,
   "id": "a932d053",
   "metadata": {},
   "outputs": [],
   "source": [
    "#change datatype of ScheduledDay and AppointmentDay from string to datetime\n",
    "df['ScheduledDay'] = pd.to_datetime(df['ScheduledDay'])\n",
    "df['AppointmentDay'] = pd.to_datetime(df['AppointmentDay'])\n"
   ]
  },
  {
   "cell_type": "code",
   "execution_count": null,
   "id": "c2287396",
   "metadata": {},
   "outputs": [],
   "source": [
    "#Rename columns SMS_received and No-show for uniformity\n",
    "df=df.rename(columns = {'SMS_received' : 'SmsReceived'})\n",
    "df=df.rename(columns = {'No-show' : 'NoShow'})"
   ]
  },
  {
   "cell_type": "code",
   "execution_count": null,
   "id": "ab7d442d",
   "metadata": {},
   "outputs": [],
   "source": [
    "#Replace values in Column NoShow make \"No\" read 1 and \"Yes\" read 0 \n",
    "#(thereby correcting the other anomaly which is that no was used to represent a confirmed appointment)\n",
    "df['NoShow'] = df['NoShow'].replace(['Yes', 'No'],['0', '1'])"
   ]
  },
  {
   "cell_type": "code",
   "execution_count": null,
   "id": "afb5ac34",
   "metadata": {},
   "outputs": [],
   "source": [
    "#Check to see the number of unique values in the NoShow column\n",
    "df.NoShow.nunique()"
   ]
  },
  {
   "cell_type": "code",
   "execution_count": null,
   "id": "79baa236",
   "metadata": {},
   "outputs": [],
   "source": [
    "#Check to see if the change worked\n",
    "df.query('NoShow == \"0\"')"
   ]
  },
  {
   "cell_type": "code",
   "execution_count": null,
   "id": "aaedf38e",
   "metadata": {},
   "outputs": [],
   "source": [
    "df.query('NoShow == \"1\"')"
   ]
  },
  {
   "cell_type": "code",
   "execution_count": null,
   "id": "80f7f694",
   "metadata": {},
   "outputs": [],
   "source": [
    "# Change the datatype of NoShow to int\n",
    "df['NoShow'] = df['NoShow'].astype(int)"
   ]
  },
  {
   "cell_type": "code",
   "execution_count": null,
   "id": "201c374d",
   "metadata": {},
   "outputs": [],
   "source": []
  },
  {
   "cell_type": "code",
   "execution_count": null,
   "id": "37029457",
   "metadata": {},
   "outputs": [],
   "source": [
    "#Extract time from ScheduledDay\n",
    "#To do this we first have to convert the time format to the datetime\n",
    "df['ScheduledDay'] = df['ScheduledDay'].apply(lambda x : pd.to_datetime(str(x)))"
   ]
  },
  {
   "cell_type": "code",
   "execution_count": null,
   "id": "574c9d54",
   "metadata": {},
   "outputs": [],
   "source": [
    "#check if change has been made\n",
    "df.info()"
   ]
  },
  {
   "cell_type": "code",
   "execution_count": null,
   "id": "be963154",
   "metadata": {},
   "outputs": [],
   "source": [
    "#Extract the time\n",
    "df['ScheduledDay'] = df['ScheduledDay'].dt.time"
   ]
  },
  {
   "cell_type": "code",
   "execution_count": null,
   "id": "f4b70c66",
   "metadata": {},
   "outputs": [],
   "source": [
    "#rename the column to ScheduleTime\n",
    "df.rename(columns = {'ScheduledDay':'ScheduledTime'}, inplace = True)"
   ]
  },
  {
   "cell_type": "code",
   "execution_count": null,
   "id": "fec31b88",
   "metadata": {},
   "outputs": [],
   "source": []
  },
  {
   "cell_type": "code",
   "execution_count": null,
   "id": "49d9f568",
   "metadata": {},
   "outputs": [],
   "source": []
  },
  {
   "cell_type": "code",
   "execution_count": null,
   "id": "ad4a38f6",
   "metadata": {},
   "outputs": [],
   "source": []
  }
 ],
 "metadata": {
  "kernelspec": {
   "display_name": "Python 3 (ipykernel)",
   "language": "python",
   "name": "python3"
  },
  "language_info": {
   "codemirror_mode": {
    "name": "ipython",
    "version": 3
   },
   "file_extension": ".py",
   "mimetype": "text/x-python",
   "name": "python",
   "nbconvert_exporter": "python",
   "pygments_lexer": "ipython3",
   "version": "3.9.12"
  }
 },
 "nbformat": 4,
 "nbformat_minor": 5
}
